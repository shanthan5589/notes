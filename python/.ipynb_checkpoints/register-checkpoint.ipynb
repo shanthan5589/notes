{
 "cells": [
  {
   "cell_type": "markdown",
   "id": "b6c29bd6-53db-4cf7-a47b-56556cf1f601",
   "metadata": {},
   "source": [
    "2024\n",
    "\n",
    "NOV\n",
    "\n",
    "16-"
   ]
  }
 ],
 "metadata": {
  "kernelspec": {
   "display_name": "Python 3 (ipykernel)",
   "language": "python",
   "name": "python3"
  },
  "language_info": {
   "codemirror_mode": {
    "name": "ipython",
    "version": 3
   },
   "file_extension": ".py",
   "mimetype": "text/x-python",
   "name": "python",
   "nbconvert_exporter": "python",
   "pygments_lexer": "ipython3",
   "version": "3.11.7"
  }
 },
 "nbformat": 4,
 "nbformat_minor": 5
}
