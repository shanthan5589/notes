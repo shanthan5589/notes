{
 "cells": [
  {
   "cell_type": "code",
   "execution_count": null,
   "id": "43b5b4ee-9d3a-4687-ac7a-be22954035ae",
   "metadata": {},
   "outputs": [],
   "source": [
    "# FORMATTING   ---- using format()\n",
    "\n",
    "# Basic Formatting\n",
    "name = \"Rohit\"\n",
    "age = 18\n",
    "print(\"My name is {} and I am {} years old.\".format(name, age))\n",
    "\n",
    "# Positional Indexing\n",
    "print(\"My name is {0} and I am {1} years old.\".format(name, age))\n",
    "print(\"{1} is my age and {0} is my name.\".format(name, age))\n",
    "\n",
    "# Keyword Arguments\n",
    "print(\"My name is {name} and I am {age} years old.\".format(name=\"Rohit\", age=18))\n",
    "\n",
    "# Mixing Positional and Keyword Arguments\n",
    "print(\"My name is {0} and I am {age} years old.\".format(\"Rohit\", age=18))\n",
    "\n",
    "# Formatting Numbers\n",
    "\n",
    "    # a) Decimal Places\n",
    "    print(\"Approx is approximately {:.2f} and {:.3f}\".format(3.14159,2.12784))\n",
    "    # b) Thousands Separator\n",
    "    print(\"The number is {:,}\".format(1000000))\n",
    "    # c) Binary, Hexadecimal, Octal\n",
    "    print(\"Binary: {:b}, Hex: {:x}, Octal: {:o}\".format(42, 42, 42))\n",
    "\n",
    "# Using format() with Dictionaries:\n",
    "data = {\"name\": \"Rohit\", \"age\": 18}\n",
    "print(\"My name is {name} and I am {age} years old.\".format(**data))\n",
    "\n",
    "\n",
    "\n",
    "# FORMATTING   ---- using f-strings\n",
    "\n",
    "# Basic Embedding \n",
    "x = 10\n",
    "y = 20\n",
    "print(f\"x is {x} and y is {y}.\")\n",
    "\n",
    "# Padding Numbers\n",
    "print(f\"Padded number: {42:05}\")    # Pads with zeros to make it 5 digits\n",
    "\n",
    "# \n",
    "name = \"Rohit\"\n",
    "age = 18\n",
    "pi = 3.14159\n",
    "print(f\"My name is {name}, I am {age} years old, and Pi to 3 decimals is {pi:.3f}.\")"
   ]
  }
 ],
 "metadata": {
  "kernelspec": {
   "display_name": "Python 3 (ipykernel)",
   "language": "python",
   "name": "python3"
  },
  "language_info": {
   "codemirror_mode": {
    "name": "ipython",
    "version": 3
   },
   "file_extension": ".py",
   "mimetype": "text/x-python",
   "name": "python",
   "nbconvert_exporter": "python",
   "pygments_lexer": "ipython3",
   "version": "3.11.7"
  }
 },
 "nbformat": 4,
 "nbformat_minor": 5
}
