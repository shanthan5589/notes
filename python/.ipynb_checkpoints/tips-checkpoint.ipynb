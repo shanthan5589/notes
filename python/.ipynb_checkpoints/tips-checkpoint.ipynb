{
 "cells": [
  {
   "cell_type": "code",
   "execution_count": null,
   "id": "c6a4bf8c-e7e6-4575-935b-65ef1d96d477",
   "metadata": {},
   "outputs": [],
   "source": [
    "x = y = z = \"Orange\"      #Assign the same value to multiple variables in one line.\n",
    "print(x)\n",
    "print(y)\n",
    "print(z)"
   ]
  },
  {
   "cell_type": "code",
   "execution_count": null,
   "id": "92e4be4d-6610-45d1-bced-ecd260304796",
   "metadata": {},
   "outputs": [],
   "source": [
    "x, y, z = \"Orange\", \"Banana\", \"Cherry\"      #Make sure the number of variables matches the number of values, or else you will get an error.\n",
    "print(x)\n",
    "print(y)\n",
    "print(z)"
   ]
  },
  {
   "cell_type": "code",
   "execution_count": null,
   "id": "ce4f298a-1960-40df-9ab8-03586724e9a1",
   "metadata": {
    "tags": []
   },
   "outputs": [],
   "source": [
    "# Note: The number of variables must match the number of values in the tuple, if not, you must use an asterisk to collect the remaining \n",
    "# values as a \"list\".\n",
    "\n",
    "\n",
    "#Unpack Collection - HERE is List Unpacking\n",
    "\n",
    "fruits = [\"apple\", \"banana\", \"cherry\"]      \n",
    "x, y, z = fruits\n",
    "print(x)\n",
    "print(y)\n",
    "print(z)\n",
    "\n",
    "\n",
    "# Tuple Unpacking\n",
    "\n",
    "fruits = (\"apple\", \"banana\", \"cherry\", \"strawberry\", \"raspberry\")\n",
    "\n",
    "(green, yellow, *red) = fruits\n",
    "\n",
    "print(green)\n",
    "print(yellow)\n",
    "print(red)"
   ]
  },
  {
   "cell_type": "code",
   "execution_count": null,
   "id": "0f311f8d-c3f2-474c-8b0f-7cc6304350bb",
   "metadata": {},
   "outputs": [],
   "source": [
    "x = \"Python\"    \n",
    "y = \"is\"\n",
    "z = \"awesome\"\n",
    "\n",
    "print(x, y, z)     #Python is awesome\n",
    "print(x + y + z)   #Pythonisawesome"
   ]
  },
  {
   "cell_type": "code",
   "execution_count": null,
   "id": "8f4b6706-cd31-46dd-a447-6a1559d0f459",
   "metadata": {},
   "outputs": [],
   "source": [
    "#If you create a variable with the same name inside a function, this variable will be local, and can only be used inside the function. \n",
    "#The global variable with the same name will remain as it was, global and with the original value.\n",
    "\n",
    "\n",
    "x = \"awesome\"\n",
    "\n",
    "def myfunc():\n",
    "  x = \"fantastic\"\n",
    "  print(\"Python is \" + x)\n",
    "\n",
    "myfunc()\n",
    "\n",
    "print(\"Python is \" + x)\n",
    "\n",
    "#Python is fantastic\n",
    "#Python is awesome\n",
    "\n",
    "\n",
    "#Use \"global\" keyword to either create a global variable or change existing one inside a function."
   ]
  },
  {
   "cell_type": "code",
   "execution_count": null,
   "id": "82347fe2-bb1e-4164-ba07-83fb3478d658",
   "metadata": {},
   "outputs": [],
   "source": [
    "#Printing a List using List Comprehension.\n",
    "\n",
    "thislist = [\"apple\", \"banana\", \"cherry\"]\n",
    "[print(x) for x in thislist]"
   ]
  },
  {
   "cell_type": "code",
   "execution_count": null,
   "id": "1beff4f8-23f7-4cfa-baf5-5ac149ca3e18",
   "metadata": {},
   "outputs": [],
   "source": [
    "# Ways to make a copy of a List:\n",
    "\n",
    "\n",
    "thislist = [\"apple\", \"banana\", \"cherry\"]      # Using list() method\n",
    "mylist = list(thislist)\n",
    "print(mylist)\n",
    "\n",
    "\n",
    "thislist = [\"apple\", \"banana\", \"cherry\"]      # Using Slice Operator\n",
    "mylist = thislist[:]\n",
    "print(mylist)"
   ]
  },
  {
   "cell_type": "code",
   "execution_count": null,
   "id": "75bc9097-331b-4fd2-95bb-02385c43c4ae",
   "metadata": {},
   "outputs": [],
   "source": [
    "# MULTIPLY TUPLES:\n",
    "\n",
    "fruits = (\"apple\", \"banana\", \"cherry\")      # In this every element of the tuples gets multipled by 2 without using loops.\n",
    "mytuple = fruits * 2\n",
    "\n",
    "print(mytuple)"
   ]
  },
  {
   "cell_type": "code",
   "execution_count": null,
   "id": "e9829283-3969-4746-b30f-d7dff95b190b",
   "metadata": {
    "tags": []
   },
   "outputs": [],
   "source": [
    "# Short Hand If\n",
    "if a > b: print(\"a is greater than b\")\n",
    "\n",
    "\n",
    "# Short Hand If ... Else\n",
    "a = 2\n",
    "b = 330\n",
    "print(\"A\") if a > b else print(\"B\")\n",
    "\n",
    "a = 330\n",
    "b = 330\n",
    "print(\"A\") if a > b else print(\"=\") if a == b else print(\"B\")\n",
    "\n",
    "\n",
    "# \"not\" keyword used to reverse the result of the conditional statement\n",
    "a = 33\n",
    "b = 200\n",
    "if not a > b:\n",
    "    print(\"a is NOT greater than b\")\n",
    "    \n",
    "    \n",
    "# With the else statement we can run a block of code once when the condition no longer is true:\n",
    "\n",
    "# Note: The else block will \"NOT\" be executed if the loop is \"stopped by a break statement\".\n",
    "for x in range(6):               \n",
    "    print(x)                           \n",
    "else:\n",
    "    print(\"Finally finished!\")\n",
    "    \n",
    "\n",
    "i = 1\n",
    "while i < 6:\n",
    "    print(i)\n",
    "    i += 1\n",
    "else:\n",
    "    print(\"i is no longer less than 6\")"
   ]
  }
 ],
 "metadata": {
  "kernelspec": {
   "display_name": "Python 3 (ipykernel)",
   "language": "python",
   "name": "python3"
  },
  "language_info": {
   "codemirror_mode": {
    "name": "ipython",
    "version": 3
   },
   "file_extension": ".py",
   "mimetype": "text/x-python",
   "name": "python",
   "nbconvert_exporter": "python",
   "pygments_lexer": "ipython3",
   "version": "3.11.7"
  }
 },
 "nbformat": 4,
 "nbformat_minor": 5
}
