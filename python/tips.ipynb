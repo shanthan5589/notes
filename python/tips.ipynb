{
 "cells": [
  {
   "cell_type": "code",
   "execution_count": null,
   "id": "c6a4bf8c-e7e6-4575-935b-65ef1d96d477",
   "metadata": {},
   "outputs": [],
   "source": [
    "x = y = z = \"Orange\"      #Assign the same value to multiple variables in one line.\n",
    "print(x)\n",
    "print(y)\n",
    "print(z)"
   ]
  },
  {
   "cell_type": "code",
   "execution_count": null,
   "id": "92e4be4d-6610-45d1-bced-ecd260304796",
   "metadata": {},
   "outputs": [],
   "source": [
    "x, y, z = \"Orange\", \"Banana\", \"Cherry\"      #Make sure the number of variables matches the number of values, or else you will get an error.\n",
    "print(x)\n",
    "print(y)\n",
    "print(z)"
   ]
  },
  {
   "cell_type": "code",
   "execution_count": null,
   "id": "ce4f298a-1960-40df-9ab8-03586724e9a1",
   "metadata": {
    "tags": []
   },
   "outputs": [],
   "source": [
    "#Unpack Collection - HERE is List Unpacking\n",
    "\n",
    "fruits = [\"apple\", \"banana\", \"cherry\"]      \n",
    "x, y, z = fruits\n",
    "print(x)\n",
    "print(y)\n",
    "print(z)"
   ]
  },
  {
   "cell_type": "code",
   "execution_count": null,
   "id": "0f311f8d-c3f2-474c-8b0f-7cc6304350bb",
   "metadata": {},
   "outputs": [],
   "source": [
    "x = \"Python\"    \n",
    "y = \"is\"\n",
    "z = \"awesome\"\n",
    "\n",
    "print(x, y, z)     #Python is awesome\n",
    "print(x + y + z)   #Pythonisawesome"
   ]
  },
  {
   "cell_type": "code",
   "execution_count": null,
   "id": "8f4b6706-cd31-46dd-a447-6a1559d0f459",
   "metadata": {},
   "outputs": [],
   "source": [
    "#If you create a variable with the same name inside a function, this variable will be local, and can only be used inside the function. \n",
    "#The global variable with the same name will remain as it was, global and with the original value.\n",
    "\n",
    "\n",
    "x = \"awesome\"\n",
    "\n",
    "def myfunc():\n",
    "  x = \"fantastic\"\n",
    "  print(\"Python is \" + x)\n",
    "\n",
    "myfunc()\n",
    "\n",
    "print(\"Python is \" + x)\n",
    "\n",
    "#Python is fantastic\n",
    "#Python is awesome\n",
    "\n",
    "\n",
    "\n",
    "#Use \"global\" keyword to either create a global variable or change existing one inside a function."
   ]
  }
 ],
 "metadata": {
  "kernelspec": {
   "display_name": "Python 3 (ipykernel)",
   "language": "python",
   "name": "python3"
  },
  "language_info": {
   "codemirror_mode": {
    "name": "ipython",
    "version": 3
   },
   "file_extension": ".py",
   "mimetype": "text/x-python",
   "name": "python",
   "nbconvert_exporter": "python",
   "pygments_lexer": "ipython3",
   "version": "3.11.7"
  }
 },
 "nbformat": 4,
 "nbformat_minor": 5
}
