{
 "cells": [
  {
   "cell_type": "markdown",
   "id": "c233f8c2-c769-466c-8e73-b9d95988fded",
   "metadata": {},
   "source": [
    "Given a positive integer - N. Print the number of multiples of 3, 5 between [1, N].\n",
    "1 <= N <= 10**18 \n",
    "\n",
    "a = int(input())\n",
    "c = 0\n",
    "for i in range(1,a+1):\n",
    "    if i % 3 == 0 or i % 5 == 0:\n",
    "        c += 1\n",
    "print(c)\n",
    "\n",
    "Efficient\n",
    "a = int(input())\n",
    "three_cnt = a // 3\n",
    "five_cnt = a // 5\n",
    "fifteen_cnt = a // 15\n",
    "\n",
    "print((three_cnt + five_cnt) - fifteen_cnt)"
   ]
  },
  {
   "cell_type": "code",
   "execution_count": null,
   "id": "9001ed91-3cf0-4927-b452-057479b2f7a4",
   "metadata": {},
   "outputs": [],
   "source": []
  }
 ],
 "metadata": {
  "kernelspec": {
   "display_name": "Python 3 (ipykernel)",
   "language": "python",
   "name": "python3"
  },
  "language_info": {
   "codemirror_mode": {
    "name": "ipython",
    "version": 3
   },
   "file_extension": ".py",
   "mimetype": "text/x-python",
   "name": "python",
   "nbconvert_exporter": "python",
   "pygments_lexer": "ipython3",
   "version": "3.11.7"
  }
 },
 "nbformat": 4,
 "nbformat_minor": 5
}
