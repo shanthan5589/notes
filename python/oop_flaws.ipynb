{
 "cells": [
  {
   "cell_type": "code",
   "execution_count": null,
   "id": "ab0365ca-9699-41a4-8429-bdc33f34a142",
   "metadata": {},
   "outputs": [],
   "source": [
    "# Can an object add a new variable not defined in the class? Yes.\n",
    "\n",
    "class A:\n",
    "    def __init__(self, x, y):\n",
    "        self.x = x\n",
    "        self.y = y\n",
    "\n",
    "obj = A(10, 20)\n",
    "obj.z = 30  # Add new attribute dynamically\n",
    "print(obj.z)  # Output: 30\n",
    "\n",
    "# It works. Even though z was not defined in the class, the object can still have it. Only that object will have\n",
    "# that additional property,other objects won't have it."
   ]
  },
  {
   "cell_type": "code",
   "execution_count": 3,
   "id": "18701dd4-6b48-4621-aa95-f2b37390f21a",
   "metadata": {},
   "outputs": [
    {
     "name": "stdout",
     "output_type": "stream",
     "text": [
      "999\n"
     ]
    }
   ],
   "source": [
    "# Can an object change the value of an existing variable? Yes, this is normal.\n",
    "\n",
    "class A:\n",
    "    def __init__(self, x, y):\n",
    "        self.x = x\n",
    "        self.y = y\n",
    "\n",
    "obj = A(10, 20)\n",
    "\n",
    "obj.x = 999\n",
    "print(obj.x)  # Output: 999"
   ]
  },
  {
   "cell_type": "code",
   "execution_count": 13,
   "id": "da68ee1d-5a16-40b6-b012-9af905866eef",
   "metadata": {},
   "outputs": [
    {
     "name": "stdout",
     "output_type": "stream",
     "text": [
      "30\n"
     ]
    }
   ],
   "source": [
    "# Can an object define a method that isn't in the class? Yes.\n",
    "\n",
    "import types\n",
    "\n",
    "class A:\n",
    "    def __init__(self, x, y):\n",
    "        self.x = x\n",
    "        self.y = y\n",
    "\n",
    "def custom_method(self):\n",
    "    return self.x + self.y\n",
    "\n",
    "# obj = A(10, 20)\n",
    "\n",
    "obj.custom = types.MethodType(custom_method, obj)\n",
    "\n",
    "print(obj.custom())  # Output: 30"
   ]
  },
  {
   "cell_type": "code",
   "execution_count": null,
   "id": "2c99f17f-65f3-453b-990d-102a4ed6eef7",
   "metadata": {},
   "outputs": [],
   "source": [
    "# Can one object override a method just for itself, not all instances? Yes.\n",
    "\n",
    "import types\n",
    "\n",
    "class A:\n",
    "    def greet(self):\n",
    "        print(\"Hello from A\")\n",
    "\n",
    "obj1 = A()\n",
    "obj2 = A()\n",
    "\n",
    "def new_greet(self):\n",
    "    print(\"Hi! I'm custom\")\n",
    "\n",
    "obj2.greet = types.MethodType(new_greet, obj2)\n",
    "\n",
    "obj1.greet()  # Hello from A\n",
    "obj2.greet()  # Hi! I'm custom\n",
    "\n",
    "# Only obj2 has the new behavior."
   ]
  }
 ],
 "metadata": {
  "kernelspec": {
   "display_name": "Python [conda env:base] *",
   "language": "python",
   "name": "conda-base-py"
  },
  "language_info": {
   "codemirror_mode": {
    "name": "ipython",
    "version": 3
   },
   "file_extension": ".py",
   "mimetype": "text/x-python",
   "name": "python",
   "nbconvert_exporter": "python",
   "pygments_lexer": "ipython3",
   "version": "3.12.7"
  }
 },
 "nbformat": 4,
 "nbformat_minor": 5
}
