{
 "cells": [
  {
   "cell_type": "code",
   "execution_count": null,
   "id": "ff889cf1-35c0-47a5-b87d-fe0c73c59383",
   "metadata": {},
   "outputs": [],
   "source": [
    "Counter\n",
    "\n",
    "They are used to count the occurrences of elements in an iterable or to count the frequency of items in a mapping. Counters provide a clean \n",
    "and efficient way to tally up elements and perform various operations related to counting.\n",
    "\n",
    "--> Parameters: The constructor of the counter can be called in any one of the following ways:\n",
    "\n",
    "        - With a sequence of items.\n",
    "        - With a dictionary containing keys and counts.\n",
    "        - With keyword arguments mapping string names to counts."
   ]
  },
  {
   "cell_type": "code",
   "execution_count": null,
   "id": "03adc996-0b54-44ee-aef0-ec631dade0fa",
   "metadata": {},
   "outputs": [],
   "source": [
    "# Ways to create a Counter\n",
    "\n",
    "# Creating a Counter from a list\n",
    "ctr1 = Counter([1, 2, 2, 3, 3, 3])\n",
    "\n",
    "# Creating a Counter from a dictionary\n",
    "ctr2 = Counter({1: 2, 2: 3, 3: 1})\n",
    "\n",
    "# Another way to create Counter \n",
    "ctr3 = Counter(a=1, b=2, c=3)\n",
    "\n",
    "# Creating a Counter from a string\n",
    "ctr4 = Counter('hello')\n",
    "\n",
    "print(ctr1)\n",
    "print(ctr2)\n",
    "print(ctr3)\n",
    "print(ctr4)\n",
    "\n",
    "# Way to access elements of Counter.\n",
    "print(ctr1[1])\n",
    "print(ctr1[2])\n",
    "\n",
    "\n",
    "Output:\n",
    "\n",
    "Counter({3: 3, 2: 2, 1: 1})\n",
    "Counter({2: 3, 1: 2, 3: 1})\n",
    "Counter({'c': 3, 'b': 2, 'a': 1})\n",
    "Counter({'l': 2, 'h': 1, 'e': 1, 'o': 1})\n",
    "\n",
    "1\n",
    "2"
   ]
  },
  {
   "cell_type": "code",
   "execution_count": null,
   "id": "b054f3d2-e0ba-4ec3-b485-64afea636ade",
   "metadata": {},
   "outputs": [],
   "source": [
    "# Methods\n",
    "\n",
    "1) ctr.update([2, 3, 3, 3])      --->  Counter can be updated by adding new elements or by updating the counts of existing elements.\n",
    "    \n",
    "2) ctr.subtract([2, 3, 3, 3, 3]) --->  Subtracts element counts from another iterable or mapping. Counts can go \"negative\"."
   ]
  },
  {
   "cell_type": "code",
   "execution_count": null,
   "id": "4359267b-a31c-47d4-8881-bfa65d15a66a",
   "metadata": {},
   "outputs": [],
   "source": [
    "3) items = list(ctr.elements())  --->  Returns an iterator over elements repeating each as many times as its count. Elements are returned \n",
    "                                    in arbitrary order.\n",
    "\n",
    "    \n",
    "coun = Counter(a=1, b=2, c=3)\n",
    "print(coun)\n",
    "print(list(coun.elements()))     ---> \"coun.elements returns object so converting it to an iterator.\"\n",
    "\n",
    "Output:\n",
    "\n",
    "Counter({'c': 3, 'b': 2, 'a': 1})\n",
    "['a', 'b', 'b', 'c', 'c', 'c']"
   ]
  },
  {
   "cell_type": "code",
   "execution_count": null,
   "id": "989911f7-94ef-4426-b3c3-a1abf2289eb5",
   "metadata": {},
   "outputs": [],
   "source": [
    "4) common = ctr.most_common(2)   --->  Returns \"list of tuples\" the n most common elements and their counts from the most common to the least. \n",
    "                                       If n is not specified, it returns all elements in the Counter.\n",
    "\n",
    "                                        \n",
    "coun = Counter(a=1, b=2, c=3, d=120, e=1, f=219)\n",
    "\n",
    "# This prints 3 most frequent characters\n",
    "for letter, count in coun.most_common(3):\n",
    "    print('%s: %d' % (letter, count))\n",
    "\n",
    "Output:\n",
    "\n",
    "f: 219\n",
    "d: 120\n",
    "c: 3"
   ]
  },
  {
   "cell_type": "code",
   "execution_count": null,
   "id": "4f15ff5f-a1b6-48d2-8ce9-daadd0bfffce",
   "metadata": {},
   "outputs": [],
   "source": [
    "# Arithmetic Operations on Counters\n",
    "\n",
    "ctr1 = Counter([1, 2, 2, 3])\n",
    "ctr2 = Counter([2, 3, 3, 4])\n",
    "\n",
    "\n",
    "# Addition\n",
    "print(ctr1 + ctr2)  --->  Adds counts for each unique element.  Output --> Counter({2: 3, 3: 3, 1: 1, 4: 1})\n",
    "                                     \n",
    "# Subtraction\n",
    "print(ctr1 - ctr2)  --->  Subtracts count values: ctr1[x] - ctr2[x], but \"keeps only positives (>= 1)\". Output -->  Counter({2: 1, 1: 1})\n",
    "\n",
    "# Intersection\n",
    "print(ctr1 & ctr2)   --->  Takes the minimum of counts for \"common elements\".  Output --> Counter({2: 1, 3: 1})\n",
    "\n",
    "# Union\n",
    "print(ctr1 | ctr2)   --->  Takes the maximum of counts for all elements.  Output --> Counter({2: 2, 3: 2, 1: 1, 4: 1})"
   ]
  },
  {
   "cell_type": "code",
   "execution_count": null,
   "id": "4944a67d-b54d-43ac-a086-942dac6156d8",
   "metadata": {},
   "outputs": [],
   "source": [
    "# Accessing Counters\n",
    "\n",
    "z = ['blue', 'red', 'blue', 'yellow', 'blue', 'red']\n",
    "col_count = Counter(z)\n",
    "print(col_count)\n",
    "\n",
    "col = ['blue','red','yellow','green']\n",
    "\n",
    "# Here green is not in col_count so count of green will be zero\n",
    "for color in col:\n",
    "    print (color, col_count[color])\n",
    "\n",
    "Output:\n",
    "\n",
    "Counter({'blue': 3, 'red': 2, 'yellow': 1})\n",
    "blue 3\n",
    "red 2\n",
    "yellow 1\n",
    "green 0"
   ]
  }
 ],
 "metadata": {
  "kernelspec": {
   "display_name": "Python [conda env:base] *",
   "language": "python",
   "name": "conda-base-py"
  },
  "language_info": {
   "codemirror_mode": {
    "name": "ipython",
    "version": 3
   },
   "file_extension": ".py",
   "mimetype": "text/x-python",
   "name": "python",
   "nbconvert_exporter": "python",
   "pygments_lexer": "ipython3",
   "version": "3.12.7"
  }
 },
 "nbformat": 4,
 "nbformat_minor": 5
}
