{
 "cells": [
  {
   "cell_type": "code",
   "execution_count": null,
   "id": "bfc4a6db-a522-4181-abbc-dfe4f02df9dd",
   "metadata": {},
   "outputs": [],
   "source": [
    "Dequeue\n",
    "\n",
    "A deque stands for Double-Ended Queue. It is a data structure that allows adding and removing elements from both ends efficiently. \n",
    "Unlike regular queues, which are typically operated on using FIFO (First In, First Out) principles, a deque supports both FIFO and \n",
    "LIFO (Last In, First Out) operations."
   ]
  },
  {
   "cell_type": "code",
   "execution_count": null,
   "id": "01bde9e3-c329-40bb-9e4c-1af5092a1d54",
   "metadata": {},
   "outputs": [],
   "source": [
    "# Methods\n",
    "\n",
    "append(x)  -->  Adds x to the right end of the deque.\n",
    "appendleft(x)  -->  Adds x to the left end of the deque.\n",
    "\n",
    "pop()  -->  Removes and returns an element from the right end of the deque.\n",
    "popleft()  -->  Removes and returns an element from the left end of the deque\n",
    "\n",
    "extend(iterable)  -->  Adds all elements from iterable to the right end of the deque.\n",
    "extendleft(iterable)  -->  Adds all elements from iterable to the left end of the deque (reversed order).\n",
    "\n",
    "remove(value)Removes the first occurrence of value from the deque. Raises \"ValueError\" if not found.\n",
    "clear()  -->  Removes all elements from the deque.\n",
    "\n",
    "index(value)  -->  Returns the index of the first occurrence of value in the deque. Raises ValueError if not found.\n",
    "\n",
    "count(value)  -->  Counts the number of occurrences of value in the deque.\n",
    "    \n",
    "rotate(n)  -->  Rotates the deque n steps to the right. If n is negative, rotates to the left.\n",
    "\n",
    "reverse()  -->  Reverses the elements of the deque in place."
   ]
  }
 ],
 "metadata": {
  "kernelspec": {
   "display_name": "Python [conda env:base] *",
   "language": "python",
   "name": "conda-base-py"
  },
  "language_info": {
   "codemirror_mode": {
    "name": "ipython",
    "version": 3
   },
   "file_extension": ".py",
   "mimetype": "text/x-python",
   "name": "python",
   "nbconvert_exporter": "python",
   "pygments_lexer": "ipython3",
   "version": "3.12.7"
  }
 },
 "nbformat": 4,
 "nbformat_minor": 5
}
