{
 "cells": [
  {
   "cell_type": "code",
   "execution_count": null,
   "id": "80294ac5-ca31-4e8e-ab60-d98000ba8014",
   "metadata": {},
   "outputs": [],
   "source": [
    "Counter\n",
    "\n",
    "They are used to count the occurrences of elements in an iterable or to count the frequency of items in a mapping. Counters provide a clean \n",
    "and efficient way to tally up elements and perform various operations related to counting.\n",
    "\n",
    "--> Parameters: The constructor of the counter can be called in any one of the following ways:\n",
    "\n",
    "        - With a sequence of items.\n",
    "        - With a dictionary containing keys and counts.\n",
    "        - With keyword arguments mapping string names to counts."
   ]
  },
  {
   "cell_type": "code",
   "execution_count": 9,
   "id": "976e62ba-1655-47a9-9d8e-b1fd33899031",
   "metadata": {},
   "outputs": [
    {
     "name": "stdout",
     "output_type": "stream",
     "text": [
      "Counter({3: 3, 2: 2, 1: 1})\n",
      "Counter({2: 3, 1: 2, 3: 1})\n",
      "Counter({'c': 3, 'b': 2, 'a': 1})\n",
      "Counter({'l': 2, 'h': 1, 'e': 1, 'o': 1})\n",
      "1\n",
      "2\n"
     ]
    }
   ],
   "source": [
    "# Ways to create a Counter\n",
    "\n",
    "# Creating a Counter from a list\n",
    "ctr1 = Counter([1, 2, 2, 3, 3, 3])\n",
    "\n",
    "# Creating a Counter from a dictionary\n",
    "ctr2 = Counter({1: 2, 2: 3, 3: 1})\n",
    "\n",
    "# Another way to create Counter \n",
    "ctr3 = Counter(a=1, b=2, c=3)\n",
    "\n",
    "# Creating a Counter from a string\n",
    "ctr4 = Counter('hello')\n",
    "\n",
    "print(ctr1)\n",
    "print(ctr2)\n",
    "print(ctr3)\n",
    "print(ctr4)\n",
    "\n",
    "# Way to access elements of Counter.\n",
    "print(ctr1[1])\n",
    "print(ctr1[2])\n",
    "\n",
    "\n",
    "Output:\n",
    "\n",
    "Counter({3: 3, 2: 2, 1: 1})\n",
    "Counter({2: 3, 1: 2, 3: 1})\n",
    "Counter({'c': 3, 'b': 2, 'a': 1})\n",
    "Counter({'l': 2, 'h': 1, 'e': 1, 'o': 1})\n",
    "\n",
    "1\n",
    "2"
   ]
  },
  {
   "cell_type": "code",
   "execution_count": null,
   "id": "7b10a9c1-673b-404b-b2dd-70ce89df8768",
   "metadata": {},
   "outputs": [],
   "source": [
    "# Methods\n",
    "\n",
    "1) ctr.update([2, 3, 3, 3])      --->  Counter can be updated by adding new elements or by updating the counts of existing elements.\n",
    "    \n",
    "2) ctr.subtract([2, 3, 3, 3, 3]) --->  Subtracts element counts from another iterable or mapping. Counts can go \"negative\"."
   ]
  },
  {
   "cell_type": "code",
   "execution_count": null,
   "id": "d49de7c8-8d93-409d-9f48-c8e01432cdbc",
   "metadata": {},
   "outputs": [],
   "source": [
    "3) items = list(ctr.elements())  --->  Returns an iterator over elements repeating each as many times as its count. Elements are returned \n",
    "                                    in arbitrary order.\n",
    "\n",
    "    \n",
    "coun = Counter(a=1, b=2, c=3)\n",
    "print(coun)\n",
    "print(list(coun.elements()))     ---> \"coun.elements returns object so converting it to an iterator.\"\n",
    "\n",
    "Output:\n",
    "\n",
    "Counter({'c': 3, 'b': 2, 'a': 1})\n",
    "['a', 'b', 'b', 'c', 'c', 'c']"
   ]
  },
  {
   "cell_type": "code",
   "execution_count": null,
   "id": "900d5a7c-5537-412e-8e2c-0ee283211d27",
   "metadata": {},
   "outputs": [],
   "source": [
    "4) common = ctr.most_common(2)   --->  Returns \"list of tuples\" the n most common elements and their counts from the most common to the least. \n",
    "                                       If n is not specified, it returns all elements in the Counter.\n",
    "\n",
    "                                        \n",
    "coun = Counter(a=1, b=2, c=3, d=120, e=1, f=219)\n",
    "\n",
    "# This prints 3 most frequent characters\n",
    "for letter, count in coun.most_common(3):\n",
    "    print('%s: %d' % (letter, count))\n",
    "\n",
    "Output:\n",
    "\n",
    "f: 219\n",
    "d: 120\n",
    "c: 3"
   ]
  },
  {
   "cell_type": "code",
   "execution_count": null,
   "id": "51dd6ad2-9657-4a9c-9f0b-e27e6979b9d9",
   "metadata": {},
   "outputs": [],
   "source": [
    "# Arithmetic Operations on Counters\n",
    "\n",
    "ctr1 = Counter([1, 2, 2, 3])\n",
    "ctr2 = Counter([2, 3, 3, 4])\n",
    "\n",
    "\n",
    "# Addition\n",
    "print(ctr1 + ctr2)  --->  Adds counts for each unique element.  Output --> Counter({2: 3, 3: 3, 1: 1, 4: 1})\n",
    "                                     \n",
    "# Subtraction\n",
    "print(ctr1 - ctr2)  --->  Subtracts count values: ctr1[x] - ctr2[x], but \"keeps only positives (>= 1)\". Output -->  Counter({2: 1, 1: 1})\n",
    "\n",
    "# Intersection\n",
    "print(ctr1 & ctr2)   --->  Takes the minimum of counts for \"common elements\".  Output --> Counter({2: 1, 3: 1})\n",
    "\n",
    "# Union\n",
    "print(ctr1 | ctr2)   --->  Takes the maximum of counts for all elements.  Output --> Counter({2: 2, 3: 2, 1: 1, 4: 1})"
   ]
  },
  {
   "cell_type": "code",
   "execution_count": null,
   "id": "1c817912-bb44-4ab0-a986-754ff3cdc61f",
   "metadata": {},
   "outputs": [],
   "source": [
    "# Accessing Counters\n",
    "\n",
    "z = ['blue', 'red', 'blue', 'yellow', 'blue', 'red']\n",
    "col_count = Counter(z)\n",
    "print(col_count)\n",
    "\n",
    "col = ['blue','red','yellow','green']\n",
    "\n",
    "# Here green is not in col_count so count of green will be zero\n",
    "for color in col:\n",
    "    print (color, col_count[color])\n",
    "\n",
    "Output:\n",
    "\n",
    "Counter({'blue': 3, 'red': 2, 'yellow': 1})\n",
    "blue 3\n",
    "red 2\n",
    "yellow 1\n",
    "green 0"
   ]
  },
  {
   "cell_type": "code",
   "execution_count": null,
   "id": "90bfc538-2db6-489e-96d0-9c8137e7e993",
   "metadata": {},
   "outputs": [],
   "source": []
  },
  {
   "cell_type": "code",
   "execution_count": null,
   "id": "addc9616-1ea9-423c-bfc2-7b75ec7d02df",
   "metadata": {},
   "outputs": [],
   "source": [
    "Dequeue\n",
    "\n",
    "A deque stands for Double-Ended Queue. It is a data structure that allows adding and removing elements from both ends efficiently. \n",
    "Unlike regular queues, which are typically operated on using FIFO (First In, First Out) principles, a deque supports both FIFO and \n",
    "LIFO (Last In, First Out) operations."
   ]
  },
  {
   "cell_type": "code",
   "execution_count": null,
   "id": "8483b574-3e84-45f1-9f3e-0ad9d72b6828",
   "metadata": {},
   "outputs": [],
   "source": [
    "# Methods\n",
    "\n",
    "append(x)  -->  Adds x to the right end of the deque.\n",
    "appendleft(x)  -->  Adds x to the left end of the deque.\n",
    "\n",
    "pop()  -->  Removes and returns an element from the right end of the deque.\n",
    "popleft()  -->  Removes and returns an element from the left end of the deque\n",
    "\n",
    "extend(iterable)  -->  Adds all elements from iterable to the right end of the deque.\n",
    "extendleft(iterable)  -->  Adds all elements from iterable to the left end of the deque (reversed order).\n",
    "\n",
    "remove(value)Removes the first occurrence of value from the deque. Raises \"ValueError\" if not found.\n",
    "clear()  -->  Removes all elements from the deque.\n",
    "\n",
    "index(value)  -->  Returns the index of the first occurrence of value in the deque. Raises ValueError if not found.\n",
    "\n",
    "count(value)  -->  Counts the number of occurrences of value in the deque.\n",
    "    \n",
    "rotate(n)  -->  Rotates the deque n steps to the right. If n is negative, rotates to the left.\n",
    "\n",
    "reverse()  -->  Reverses the elements of the deque in place."
   ]
  }
 ],
 "metadata": {
  "kernelspec": {
   "display_name": "Python [conda env:base] *",
   "language": "python",
   "name": "conda-base-py"
  },
  "language_info": {
   "codemirror_mode": {
    "name": "ipython",
    "version": 3
   },
   "file_extension": ".py",
   "mimetype": "text/x-python",
   "name": "python",
   "nbconvert_exporter": "python",
   "pygments_lexer": "ipython3",
   "version": "3.12.7"
  }
 },
 "nbformat": 4,
 "nbformat_minor": 5
}
