{
 "cells": [
  {
   "cell_type": "code",
   "execution_count": null,
   "id": "48aa07e1-ac17-4ad1-a5b3-939eff77e7b1",
   "metadata": {},
   "outputs": [],
   "source": [
    "# INTRO TO DATA TYPE PROPERTIES:\n",
    "\n",
    "'''   List is ordered and changable. Allows duplicate members.\n",
    "      Dictionary is ordered and changable. No duplicate members.\n",
    "      String is ordered and unchangable. Allows duplicate members.\n",
    "      Tuple is ordered and unchangable. Allows duplicate members.\n",
    "      Set is unordered, unchangable, and unindexed. No duplicate members.   '''"
   ]
  },
  {
   "cell_type": "code",
   "execution_count": null,
   "id": "a97a733f-e0f6-4f77-a90d-e261148bb0ee",
   "metadata": {},
   "outputs": [],
   "source": []
  },
  {
   "cell_type": "code",
   "execution_count": 1,
   "id": "6d191e00-d6e9-457f-8492-17c014c91194",
   "metadata": {
    "tags": []
   },
   "outputs": [],
   "source": [
    "# STRINGS\n",
    "\n",
    "'''\n",
    "\n",
    "---> Strings in python are surrounded by either single or double quotation marks.\n",
    "\n",
    "---> You can use quotes inside a string, as long as they don't match the quotes surrounding the string.\n",
    "\n",
    "---> Like many other popular programming languages, strings in Python are arrays of bytes representing unicode characters. However, Python does not \n",
    "     have a character data type, a single character is simply a string with a length of 1.\n",
    "    \n",
    "    (*Square brackets can be used to access elements of the string)\n",
    "    \n",
    "---> Since we cannot combine strings and numbers in python, we use \"f-string\" or \"format()\" method. {} -> \"placeholder\"\n",
    "\n",
    "\n",
    "'''"
   ]
  },
  {
   "cell_type": "code",
   "execution_count": null,
   "id": "67a04713-9c2d-473d-8798-5522a359c391",
   "metadata": {},
   "outputs": [],
   "source": [
    "# STRING METHODS\n",
    "\n",
    "# Asterisk(*) indicates Optional Parameters.\n",
    "\n",
    "capitalize()   ---> # Returns a string where the First character is Upper case.\n",
    "upper()  ---> # Returns a string where All characters are in Upper case.\n",
    "\n",
    "lower()       ---> # Both do the same job.\n",
    "casefold()\n",
    "\n",
    "centre(length, *character) ---> # It center aligns the string.\n",
    "\n",
    "count(value, *start, *end) ---> # Returns the number of times a specified value appears in the string.\n",
    "\n",
    "endswith(value, *start, *end) ---> # Returns boolean value.\n",
    "startswith(value, *start, *end)\n",
    "\n",
    "# index() raises exception and find() returns -1 if value not found.\n",
    "find(value, *start, *end)       \n",
    "index(value, *start, *end)    \n",
    "rfind(value, *start, *end)    \n",
    "rindex(value, *start, *end)\n",
    "\n",
    "isalnum() ---> # Returns True if all the characters are alphanumeric.\n",
    "isalpha()  ---> # Returns True if all the characters are alphabet letters.\n",
    "isdecimal() ---> # Returns True if all the characters are decimals.\n",
    "isidentifier() ---> # Returns True if the string is a valid identifier. (A-Z),(0-9),(_)\n",
    "islower()  ---> # Returns True if all the characters are in lower case.\n",
    "isupper()  ---> #  Returns True if all the characters are in Upper case.\n",
    "\n",
    "IMP:  string.join(iterable) ---> # Takes all items in an iterable and joins them into one string \n",
    "NOTE: When using a dictionary as an iterable, the returned values are the keys, not the values.\n",
    "\n",
    "replace(oldvalue, newvalue, *count) ---> # Returns a string where a specified value is replaced with a specified value\n",
    "\n",
    "format()  ---> # Formats the specified value(s) and insert them inside the string's placeholder.\n",
    "\n",
    "ljust(length, *character)  ---> # left or Right align the string, using a specified character (space is default) as the fill character.\n",
    "rjust(length, *character)\n",
    "\n",
    "strip(*characters)    ---> # Removes any leading, and Trailing whitespaces.\n",
    "rstrip(*characters)   ---> # Removes any Trailing whitespaces.\n",
    "lstrip(*characters)   ---> # Removes any leading whitespaces.\n",
    "\n",
    "split(*separator, *maxsplit)   ---> #  Splits a string into a list.\n",
    "\n",
    "zfill(len)  ---> # Adds zeros (0) at the beginning of the string, until it reaches the specified length."
   ]
  },
  {
   "cell_type": "code",
   "execution_count": null,
   "id": "c67bbc78-f882-484e-9101-7061941e4084",
   "metadata": {},
   "outputs": [],
   "source": [
    "# format() method usage\n",
    "\n",
    "txt = \"For only {price:.2f} dollars!\"     # For only 49.00 dollars!\n",
    "print(txt.format(price = 49))\n",
    "\n",
    "txt1 = \"My name is {fname}, I'm {age}\".format(fname = \"John\", age = 36)    ---> # Check \"essentials.ipynb\" for more detailed info.\n",
    "txt2 = \"My name is {0}, I'm {1}\".format(\"John\",36)\n",
    "txt3 = \"My name is {}, I'm {}\".format(\"John\",36)"
   ]
  },
  {
   "cell_type": "code",
   "execution_count": null,
   "id": "51b89216-1d32-47b8-8bbf-927d68930a6d",
   "metadata": {},
   "outputs": [],
   "source": []
  },
  {
   "cell_type": "code",
   "execution_count": null,
   "id": "fb59ab0a-0590-408d-b297-2bc585c4c99c",
   "metadata": {},
   "outputs": [],
   "source": [
    "# LISTS\n",
    "\n",
    "'''\n",
    "\n",
    "\n",
    "'''\n",
    "\n"
   ]
  },
  {
   "cell_type": "code",
   "execution_count": null,
   "id": "44068ff1-96c9-447a-9bbb-629662f7ddd0",
   "metadata": {},
   "outputs": [],
   "source": [
    "# List Methods\n",
    "\n",
    "insert(pos, elmnt)  # Inserts the specified value at the specified position.\n",
    "append(elmnt)       # Appends an element to the end of the list.\n",
    "extend(iterable)    # Append elements from another list to the current list, use the extend() method.\n",
    "\n",
    "remove(elmnt)     # Removes the specified item.\n",
    "pop(*pos)         # Removes the element at the specified position. (RETURNS \"REMOVED\" VALUE)\n",
    "clear()          #  Empties the list.\n",
    "del list_name[index]        # Can delete specific index or delete the list completely. \n",
    "\n",
    "sort(*reverse=True/False, *key=myFunc) \n",
    "\n",
    "reverse()\n",
    "\n",
    "index(elmnt)\n",
    "\n",
    "count(value)\n",
    "\n",
    "copy()  "
   ]
  },
  {
   "cell_type": "code",
   "execution_count": null,
   "id": "523831cd-dca7-40d0-b2d6-332f294a82ea",
   "metadata": {},
   "outputs": [],
   "source": [
    "#NOTE: The length of the list will change when the number of items inserted does not match the number of items replaced.\n",
    "\n",
    "\n",
    "thislist = [\"apple\", \"banana\", \"cherry\"]\n",
    "thislist[1] = \"blackcurrant\"\n",
    "\n",
    "thislist[1:3] = [\"watermelon\"]\n",
    "print(thislist)\n",
    "\n",
    "thislist = [\"apple\", \"banana\", \"cherry\", \"orange\", \"kiwi\", \"mango\"]      \n",
    "thislist[1:3] = [\"blackcurrant\", \"watermelon\"]\n",
    "\n",
    "thislist = [\"apple\", \"banana\", \"cherry\"]                   \n",
    "thislist[1:2] = [\"blackcurrant\", \"watermelon\"]"
   ]
  },
  {
   "cell_type": "code",
   "execution_count": null,
   "id": "c4712698-bffc-4d21-a3d2-d9de961f959b",
   "metadata": {},
   "outputs": [],
   "source": []
  },
  {
   "cell_type": "code",
   "execution_count": null,
   "id": "d82ca716-cee1-4bf0-888c-9b139da11223",
   "metadata": {},
   "outputs": [],
   "source": [
    "# TUPLES\n",
    "\n",
    "'''\n",
    "\n",
    " -->> IMP: To create a Tuple with only \"one item\", you have to add a \"comma\" after the item, otherwise Python will not recognize it as a Tuple,  \n",
    "           instead it will recognize it as a String.\n",
    "        \n",
    " --->  Once a tuple is created, you \"cannot\" change its values. Tuples are unchangeable, or immutable. But there is a workaround. You can convert the \n",
    "       Tuple into a list, change the list, and convert the list back into a tuple.\n",
    "    \n",
    " ---> Ways to add elements in a Tuple:\n",
    "    \n",
    "        1) Convert into a List.\n",
    "        2) Add Tuple to a Tuple.\n",
    "\n",
    "'''\n",
    "        "
   ]
  },
  {
   "cell_type": "code",
   "execution_count": null,
   "id": "837093a7-d769-4bd3-971b-b0f1dd03352c",
   "metadata": {},
   "outputs": [],
   "source": [
    "# TUPLE METHODS:\n",
    "\n",
    "count(value)   --->   Returns the number of times a specified value appears in the tuple.\n",
    "index(value)   --->   Finds the first occurrence of the specified value and raises an exception if the value is not found."
   ]
  },
  {
   "cell_type": "code",
   "execution_count": null,
   "id": "4bfb08fc-4561-466b-b987-522c56b2b753",
   "metadata": {},
   "outputs": [],
   "source": [
    "# ADD A TUPLE TO ANOTHER TUPLE\n",
    "    \n",
    "    thistuple = (\"apple\", \"banana\", \"cherry\")        \n",
    "    y = (\"orange\",)\n",
    "    thistuple += y  \n",
    "    print(thistuple) \n",
    "    \n",
    "# \"thistuple += y\"  means  \"thistuple = thistuple + y\" so the \"+\" in \"thistuple + y\" creates a new tuple \n",
    "# and gets added to thistuple itself."
   ]
  },
  {
   "cell_type": "code",
   "execution_count": null,
   "id": "f14a39a1-cd64-4d0e-aa4d-3b6d4a79faca",
   "metadata": {},
   "outputs": [],
   "source": [
    "# JOIN TWO TUPLES:\n",
    "\n",
    "tuple1 = (\"a\", \"b\" , \"c\")\n",
    "tuple2 = (1, 2, 3)\n",
    "\n",
    "tuple3 = tuple1 + tuple2\n",
    "print(tuple3)\n",
    "\n",
    "\n",
    "# MULTIPLY TUPLES:\n",
    "\n",
    "fruits = (\"apple\", \"banana\", \"cherry\")      # In this every element of the tuples gets multipled by 2 without using loops.\n",
    "mytuple = fruits * 2\n",
    "\n",
    "print(mytuple)"
   ]
  },
  {
   "cell_type": "code",
   "execution_count": null,
   "id": "bc645723-bb18-4a45-87e2-9d5c20c0d499",
   "metadata": {},
   "outputs": [],
   "source": []
  },
  {
   "cell_type": "code",
   "execution_count": null,
   "id": "dc4c5c22-e74e-4514-868c-6d63fcd61ddb",
   "metadata": {},
   "outputs": [],
   "source": [
    "# DICTIONARY\n",
    "\n",
    "'''\n",
    "    ---> You can access the items of a dictionary by referring to its key name, inside square brackets or by using \"get()\" method.\n",
    "    \n",
    "    ---> You can change the value of a specific item by referring to its key name inside the [] or by using \"update()\" method.\n",
    "\n",
    "'''"
   ]
  },
  {
   "cell_type": "code",
   "execution_count": null,
   "id": "6675cb28-b4bd-44a2-bf8c-8e9dff70afa5",
   "metadata": {},
   "outputs": [],
   "source": [
    "# DICTIONARY METHODS\n",
    "\n",
    "keys()    --->   Return a \"List\" of all the keys in the dictionary.\n",
    "values()  --->   Return a \"List\" of all the values in the dictionary.\n",
    "items()   --->   Return each item in a dictionary, as \"Tuples in a List\".\n",
    "\n",
    "get(keyname, *value)   --->  Returns the value of the item with the specified key.\n",
    "\n",
    "update(iterable)   ---> The argument \"must\" be a dictionary, or an iterable object with \"key:value pairs\".\n",
    "\n",
    "pop(keyname, *defaultvalue)   --->  \"defaultvalue\" is a value to return if the specified key do not exist.\n",
    "The \"del\" keyword is used either to remove the item with the specified key name or to delete the dictionary completely.\n",
    "clear()   --->  Removes all the elements from a Dictionary.\n",
    "\n",
    "copy()\n",
    "\n",
    "fromkeys(keys, *value)  --->  Returns a dictionary with the specified keys and the specified value."
   ]
  },
  {
   "cell_type": "code",
   "execution_count": null,
   "id": "bffa01ca-c50c-4bf5-858b-deb3d5022fc0",
   "metadata": {},
   "outputs": [],
   "source": [
    "for x in thisdict:     # Print all key names in the dictionary, one by one.\n",
    "    print(x)\n",
    "\n",
    "for x in thisdict.keys():\n",
    "    print(x)\n",
    "\n",
    "for x in thisdict:       # Print all values in the dictionary, one by one.\n",
    "    print(thisdict[x])\n",
    "\n",
    "for x in thisdict.values():\n",
    "    print(x)\n",
    "\n",
    "for x, y in thisdict.items():   # Loop through both keys and values, by using the items() method.\n",
    "    print(x, y)"
   ]
  },
  {
   "cell_type": "code",
   "execution_count": null,
   "id": "a47f7604-9846-4d62-b729-f8a97293dda3",
   "metadata": {},
   "outputs": [],
   "source": []
  },
  {
   "cell_type": "code",
   "execution_count": null,
   "id": "ad4c209d-9955-4967-b8a9-5b45de305895",
   "metadata": {},
   "outputs": [],
   "source": [
    "# SETS\n",
    "\n",
    "'''\n",
    "   ---> Set items are unchangeable, but you can remove items and add new items.\n",
    "\n",
    "'''"
   ]
  },
  {
   "cell_type": "code",
   "execution_count": null,
   "id": "9b937976-a56f-4bbb-b19d-411887a5b411",
   "metadata": {},
   "outputs": [],
   "source": [
    "# SET METHODS:\n",
    "\n",
    "add(elmnt)\n",
    "update(set1, set2 ...)   --->  Updates the current set, by adding items from another set (or any other iterable).\n",
    "\n",
    "\n",
    "# If item \"doesn't\" exist remove() will raise an error and discard() will NOT raise an error.\n",
    "remove(elmt)\n",
    "discard(elmt)\n",
    "clear()\n",
    "del keyword will delete the set completely.\n",
    "\n",
    "union(set1, set2...)  -->  ( | )   --->   Returns a set that contains all items from the original set, and all items from the specified set(s).\n",
    "\n",
    "intersection(set1, set2 ...)   -->  ( & )  --->  Returns a set that contains elements from all the provided sets.\n",
    "intersection_update()\n",
    "\n",
    "difference(set1, set2 ... etc.)    -->  ( - )  --->   Returned set contains items that exist only in the first set, and not in both sets.\n",
    "difference_update()\n",
    "\n",
    "set.symmetric_difference(set1)   -->  ( ^ )   --->  Returned set contains a mix of items that are not present in both sets.\n",
    "set.symmetric_difference_update(set1)\n",
    "\n",
    "copy()"
   ]
  }
 ],
 "metadata": {
  "kernelspec": {
   "display_name": "Python 3 (ipykernel)",
   "language": "python",
   "name": "python3"
  },
  "language_info": {
   "codemirror_mode": {
    "name": "ipython",
    "version": 3
   },
   "file_extension": ".py",
   "mimetype": "text/x-python",
   "name": "python",
   "nbconvert_exporter": "python",
   "pygments_lexer": "ipython3",
   "version": "3.11.7"
  }
 },
 "nbformat": 4,
 "nbformat_minor": 5
}
