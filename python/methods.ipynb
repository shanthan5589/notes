{
 "cells": [
  {
   "cell_type": "code",
   "execution_count": 1,
   "id": "6d191e00-d6e9-457f-8492-17c014c91194",
   "metadata": {
    "tags": []
   },
   "outputs": [],
   "source": [
    "#STRINGS\n",
    "\n",
    "'''\n",
    "\n",
    "---> Strings in python are surrounded by either single or double quotation marks.\n",
    "\n",
    "---> You can use quotes inside a string, as long as they don't match the quotes surrounding the string.\n",
    "\n",
    "---> Like many other popular programming languages, strings in Python are arrays of bytes representing unicode characters. However, Python does not \n",
    "     have a character data type, a single character is simply a string with a length of 1.\n",
    "    \n",
    "    (*Square brackets can be used to access elements of the string)\n",
    "    \n",
    "---> Since we cannot combine strings and numbers in python, we use \"f-string\" or \"format()\" method. {} -> \"placeholder\"\n",
    "\n",
    "\n",
    "\n",
    "'''"
   ]
  },
  {
   "cell_type": "code",
   "execution_count": null,
   "id": "67a04713-9c2d-473d-8798-5522a359c391",
   "metadata": {},
   "outputs": [],
   "source": [
    "# STRING METHODS\n",
    "\n",
    "# Asterisk(*) indicates Optional Parameters.\n",
    "\n",
    "capitalize()   ---> # Returns a string where the First character is Upper case.\n",
    "upper()  ---> # Returns a string where All characters are in Upper case.\n",
    "\n",
    "lower()       ---> # Both do the same job.\n",
    "casefold()\n",
    "\n",
    "centre(length, *character) ---> # It center aligns the string.\n",
    "\n",
    "count(value, *start, *end) ---> # Returns the number of times a specified value appears in the string.\n",
    "\n",
    "endswith(value, *start, *end) ---> # Returns boolean value.\n",
    "startswith(value, *start, *end)\n",
    "\n",
    "# index() raises exception and find() returns -1 if value not found.\n",
    "find(value, *start, *end)       \n",
    "index(value, *start, *end)    \n",
    "rfind(value, *start, *end)    \n",
    "rindex(value, *start, *end)\n",
    "\n",
    "isalnum() ---> # Returns True if all the characters are alphanumeric.\n",
    "isalpha()  ---> # Returns True if all the characters are alphabet letters.\n",
    "isdecimal() ---> # Returns True if all the characters are decimals.\n",
    "isidentifier() ---> # Returns True if the string is a valid identifier. (A-Z),(0-9),(_)\n",
    "islower()  ---> # Returns True if all the characters are in lower case.\n",
    "isupper()  ---> #  Returns True if all the characters are in Upper case.\n",
    "\n",
    "string.join(iterable) ---> # Takes all items in an iterable and joins them into one string \n",
    "NOTE: When using a dictionary as an iterable, the returned values are the keys, not the values.\n",
    "\n",
    "replace(oldvalue, newvalue, *count) ---> # Returns a string where a specified value is replaced with a specified value\n",
    "\n",
    "format()  ---> # Formats the specified value(s) and insert them inside the string's placeholder.\n",
    "\n",
    "ljust(length, *character)  ---> # left or Right align the string, using a specified character (space is default) as the fill character.\n",
    "rjust(length, *character)\n",
    "\n",
    "strip(*characters)    ---> # Removes any leading, and Trailing whitespaces.\n",
    "rstrip(*characters)   ---> # Removes any Trailing whitespaces.\n",
    "lstrip(*characters)   ---> # Removes any leading whitespaces.\n",
    "\n",
    "split(*separator, *maxsplit)   ---> #  Splits a string into a list.\n",
    "\n",
    "zfill(len)  ---> # Adds zeros (0) at the beginning of the string, until it reaches the specified length."
   ]
  },
  {
   "cell_type": "code",
   "execution_count": null,
   "id": "c67bbc78-f882-484e-9101-7061941e4084",
   "metadata": {},
   "outputs": [],
   "source": [
    "# format() method usage\n",
    "\n",
    "txt = \"For only {price:.2f} dollars!\"     # For only 49.00 dollars!\n",
    "print(txt.format(price = 49))\n",
    "\n",
    "txt1 = \"My name is {fname}, I'm {age}\".format(fname = \"John\", age = 36)\n",
    "txt2 = \"My name is {0}, I'm {1}\".format(\"John\",36)\n",
    "txt3 = \"My name is {}, I'm {}\".format(\"John\",36)"
   ]
  }
 ],
 "metadata": {
  "kernelspec": {
   "display_name": "Python 3 (ipykernel)",
   "language": "python",
   "name": "python3"
  },
  "language_info": {
   "codemirror_mode": {
    "name": "ipython",
    "version": 3
   },
   "file_extension": ".py",
   "mimetype": "text/x-python",
   "name": "python",
   "nbconvert_exporter": "python",
   "pygments_lexer": "ipython3",
   "version": "3.11.7"
  }
 },
 "nbformat": 4,
 "nbformat_minor": 5
}
